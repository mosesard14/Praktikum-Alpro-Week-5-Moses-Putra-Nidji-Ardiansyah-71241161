{
  "nbformat": 4,
  "nbformat_minor": 0,
  "metadata": {
    "colab": {
      "provenance": [],
      "authorship_tag": "ABX9TyPm1ijykX5XZjM7FkUVYR4T",
      "include_colab_link": true
    },
    "kernelspec": {
      "name": "python3",
      "display_name": "Python 3"
    },
    "language_info": {
      "name": "python"
    }
  },
  "cells": [
    {
      "cell_type": "markdown",
      "metadata": {
        "id": "view-in-github",
        "colab_type": "text"
      },
      "source": [
        "<a href=\"https://colab.research.google.com/github/mosesard14/Praktikum-Alpro-Week-5-Moses-Putra-Nidji-Ardiansyah-71241161/blob/main/Latihan_Mandiri_5_1_71241161.ipynb\" target=\"_parent\"><img src=\"https://colab.research.google.com/assets/colab-badge.svg\" alt=\"Open In Colab\"/></a>"
      ]
    },
    {
      "cell_type": "code",
      "execution_count": 1,
      "metadata": {
        "colab": {
          "base_uri": "https://localhost:8080/"
        },
        "id": "qJfdwQHz2Gzm",
        "outputId": "4a6fe5cb-1b5f-4580-ca23-5415a46be7e8"
      },
      "outputs": [
        {
          "output_type": "stream",
          "name": "stdout",
          "text": [
            "True\n",
            "True\n"
          ]
        }
      ],
      "source": [
        "def cek_angka(a, b, c):\n",
        "    if a != b and a != c and b != c:\n",
        "        if a + b == c or a + c == b or b + c == a:\n",
        "            return True\n",
        "        elif a != b or a != c or b != c:\n",
        "            return True\n",
        "    return False\n",
        "print(cek_angka(10, 5, 15))\n",
        "print(cek_angka(5, 10, 20))\n",
        "print(cek_angka(5, 10, 5))"
      ]
    }
  ]
}