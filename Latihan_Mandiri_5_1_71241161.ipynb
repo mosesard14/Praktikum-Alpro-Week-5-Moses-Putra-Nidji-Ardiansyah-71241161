{
  "nbformat": 4,
  "nbformat_minor": 0,
  "metadata": {
    "colab": {
      "provenance": [],
      "authorship_tag": "ABX9TyN77pWtVL53RABjYClB3rdT",
      "include_colab_link": true
    },
    "kernelspec": {
      "name": "python3",
      "display_name": "Python 3"
    },
    "language_info": {
      "name": "python"
    }
  },
  "cells": [
    {
      "cell_type": "markdown",
      "metadata": {
        "id": "view-in-github",
        "colab_type": "text"
      },
      "source": [
        "<a href=\"https://colab.research.google.com/github/mosesard14/Praktikum-Alpro-Week-5-Moses-Putra-Nidji-Ardiansyah-71241161/blob/main/Latihan_Mandiri_5_1_71241161.ipynb\" target=\"_parent\"><img src=\"https://colab.research.google.com/assets/colab-badge.svg\" alt=\"Open In Colab\"/></a>"
      ]
    },
    {
      "cell_type": "code",
      "execution_count": 3,
      "metadata": {
        "colab": {
          "base_uri": "https://localhost:8080/"
        },
        "id": "qJfdwQHz2Gzm",
        "outputId": "faa9b384-7d3f-4976-ad59-95e87c3a9e77"
      },
      "outputs": [
        {
          "output_type": "stream",
          "name": "stdout",
          "text": [
            "True\n",
            "False\n"
          ]
        }
      ],
      "source": [
        "def cek_angka(a, b, c):\n",
        "  if a != b and a != c and b != c:\n",
        "    if a + b == c or a + c == b or b + c == a:\n",
        "      return True\n",
        "  return False\n",
        "print(cek_angka(10, 5, 15))\n",
        "print(cek_angka(5, 10, 20))"
      ]
    }
  ]
}