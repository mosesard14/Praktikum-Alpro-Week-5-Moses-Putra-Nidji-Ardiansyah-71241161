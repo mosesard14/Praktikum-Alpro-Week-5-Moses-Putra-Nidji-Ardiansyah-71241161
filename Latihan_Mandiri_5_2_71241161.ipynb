{
  "nbformat": 4,
  "nbformat_minor": 0,
  "metadata": {
    "colab": {
      "provenance": [],
      "authorship_tag": "ABX9TyNvh0Fn/RDeU+g/jRHIyfEB",
      "include_colab_link": true
    },
    "kernelspec": {
      "name": "python3",
      "display_name": "Python 3"
    },
    "language_info": {
      "name": "python"
    }
  },
  "cells": [
    {
      "cell_type": "markdown",
      "metadata": {
        "id": "view-in-github",
        "colab_type": "text"
      },
      "source": [
        "<a href=\"https://colab.research.google.com/github/mosesard14/Praktikum-Alpro-Week-5-Moses-Putra-Nidji-Ardiansyah-71241161/blob/main/Latihan_Mandiri_5_2_71241161.ipynb\" target=\"_parent\"><img src=\"https://colab.research.google.com/assets/colab-badge.svg\" alt=\"Open In Colab\"/></a>"
      ]
    },
    {
      "cell_type": "code",
      "execution_count": null,
      "metadata": {
        "id": "wJd9H0Dl2Zm7"
      },
      "outputs": [],
      "source": [
        "def cek_digit_belakang():\n",
        "  try:\n",
        "    angka1 = int(input(\"Masukkan angka pertama: \"))\n",
        "    angka2 = int(input(\"Masukkan angka kedua: \"))\n",
        "    angka3 = int(input(\"Masukkan angka ketiga: \"))\n",
        "\n",
        "    a = angka1 % 10\n",
        "    b = angka2 % 10\n",
        "    c = angka3 % 10\n",
        "\n",
        "    if a == b and a == c and b == c:\n",
        "      return True\n",
        "    else:\n",
        "      return False\n",
        "  except ValueError:\n",
        "    print(\"Input harus berupa angka.\")\n",
        "    return cek_digit_belakang()\n",
        "\n",
        "print(cek_digit_belakang())"
      ]
    }
  ]
}