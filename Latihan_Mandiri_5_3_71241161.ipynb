{
  "nbformat": 4,
  "nbformat_minor": 0,
  "metadata": {
    "colab": {
      "provenance": [],
      "authorship_tag": "ABX9TyOQKSA7/Y3APS0rl3t+f2Zf",
      "include_colab_link": true
    },
    "kernelspec": {
      "name": "python3",
      "display_name": "Python 3"
    },
    "language_info": {
      "name": "python"
    }
  },
  "cells": [
    {
      "cell_type": "markdown",
      "metadata": {
        "id": "view-in-github",
        "colab_type": "text"
      },
      "source": [
        "<a href=\"https://colab.research.google.com/github/mosesard14/Praktikum-Alpro-Week-5-Moses-Putra-Nidji-Ardiansyah-71241161/blob/main/Latihan_Mandiri_5_3_71241161.ipynb\" target=\"_parent\"><img src=\"https://colab.research.google.com/assets/colab-badge.svg\" alt=\"Open In Colab\"/></a>"
      ]
    },
    {
      "cell_type": "code",
      "execution_count": 7,
      "metadata": {
        "colab": {
          "base_uri": "https://localhost:8080/"
        },
        "id": "D1FKUokW2hVk",
        "outputId": "41eea96e-1aa5-47e5-d42b-771b148177a2"
      },
      "outputs": [
        {
          "output_type": "stream",
          "name": "stdout",
          "text": [
            "Input C = 100 F = 212.0\n",
            "Input C = 80 R = 64.0\n",
            "Input C = 0 F = 32.0\n"
          ]
        }
      ],
      "source": [
        "celcius_fahrenheit = lambda C: (9/5) * C + 32\n",
        "celcius_reamur = lambda C: 0.8 * C\n",
        "\n",
        "print(\"Input C = 100 F =\", celcius_fahrenheit(100))\n",
        "print(\"Input C = 80 R =\", celcius_reamur(80))\n",
        "print(\"Input C = 0 F =\", celcius_fahrenheit(0))"
      ]
    }
  ]
}